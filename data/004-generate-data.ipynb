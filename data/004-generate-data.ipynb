{
 "cells": [
  {
   "cell_type": "markdown",
   "metadata": {},
   "source": [
    "**Generate Data for high usage for construction tool**"
   ]
  },
  {
   "cell_type": "code",
   "execution_count": 1,
   "metadata": {},
   "outputs": [],
   "source": [
    "import pandas as pd\n",
    "import numpy as np\n",
    "from faker import Faker\n",
    "import matplotlib.pyplot as plt"
   ]
  },
  {
   "cell_type": "code",
   "execution_count": 2,
   "metadata": {},
   "outputs": [],
   "source": [
    "df = 'accelerometer_dataset.csv'\n",
    "df = pd.read_csv(df)"
   ]
  },
  {
   "cell_type": "code",
   "execution_count": 3,
   "metadata": {},
   "outputs": [],
   "source": [
    "fake = Faker()\n",
    "\n",
    "def calculate_baseline_stats(data):\n",
    "    stats = {}\n",
    "    statuses = df['status'].unique()\n",
    "    for status in statuses:\n",
    "        subset = df[df['status'] == status]\n",
    "        stats[status] = {\n",
    "            'x_mean': subset['x'].mean(),\n",
    "            'x_std': subset['x'].std(),\n",
    "            'y_mean': subset['y'].mean(),\n",
    "            'y_std': subset['y'].std(),\n",
    "            'z_mean': subset['z'].mean(),\n",
    "            'z_std': subset['z'].std(),\n",
    "        }\n",
    "    return stats\n",
    "\n",
    "baseline_stats = calculate_baseline_stats(df)\n",
    "\n",
    "def generate_data_from_baseline(baseline_stats, total_rows):\n",
    "    synthetic_data = []\n",
    "    distribution = {\n",
    "        'used': int(total_rows * 0.25),\n",
    "        'false_motion': int(total_rows * 0.50),\n",
    "        'idle': int(total_rows * 0.25)\n",
    "    }\n",
    "    \n",
    "    for status, rows_per_status in distribution.items():\n",
    "        stats = baseline_stats[status]\n",
    "        x = np.random.normal(stats['x_mean'], stats['x_std'], size=rows_per_status)\n",
    "        y = np.random.normal(stats['y_mean'], stats['y_std'], size=rows_per_status)\n",
    "        z = np.random.normal(stats['z_mean'], stats['z_std'], size=rows_per_status)\n",
    "        for i in range(rows_per_status):\n",
    "            synthetic_data.append({\n",
    "                'x': x[i],\n",
    "                'y': y[i],\n",
    "                'z': z[i],\n",
    "                'status': status,\n",
    "            })\n",
    "    return pd.DataFrame(synthetic_data)\n",
    "\n",
    "generated_data = generate_data_from_baseline(baseline_stats, 100000)\n"
   ]
  },
  {
   "cell_type": "code",
   "execution_count": 4,
   "metadata": {},
   "outputs": [],
   "source": [
    "file_path = '2_less_used_data.csv'\n",
    "generated_data.to_csv(file_path, index=False)"
   ]
  }
 ],
 "metadata": {
  "kernelspec": {
   "display_name": ".venv",
   "language": "python",
   "name": "python3"
  },
  "language_info": {
   "codemirror_mode": {
    "name": "ipython",
    "version": 3
   },
   "file_extension": ".py",
   "mimetype": "text/x-python",
   "name": "python",
   "nbconvert_exporter": "python",
   "pygments_lexer": "ipython3",
   "version": "3.12.3"
  }
 },
 "nbformat": 4,
 "nbformat_minor": 2
}

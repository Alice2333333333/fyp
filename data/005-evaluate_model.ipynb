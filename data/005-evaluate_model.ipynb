{
 "cells": [
  {
   "cell_type": "code",
   "execution_count": 1,
   "metadata": {},
   "outputs": [],
   "source": [
    "import pandas as pd\n",
    "import numpy as np\n",
    "import matplotlib.pyplot as plt"
   ]
  },
  {
   "cell_type": "markdown",
   "metadata": {},
   "source": [
    "**Process Data**"
   ]
  },
  {
   "cell_type": "code",
   "execution_count": 40,
   "metadata": {},
   "outputs": [
    {
     "data": {
      "text/html": [
       "<div>\n",
       "<style scoped>\n",
       "    .dataframe tbody tr th:only-of-type {\n",
       "        vertical-align: middle;\n",
       "    }\n",
       "\n",
       "    .dataframe tbody tr th {\n",
       "        vertical-align: top;\n",
       "    }\n",
       "\n",
       "    .dataframe thead th {\n",
       "        text-align: right;\n",
       "    }\n",
       "</style>\n",
       "<table border=\"1\" class=\"dataframe\">\n",
       "  <thead>\n",
       "    <tr style=\"text-align: right;\">\n",
       "      <th></th>\n",
       "      <th>x</th>\n",
       "      <th>y</th>\n",
       "      <th>z</th>\n",
       "      <th>status</th>\n",
       "    </tr>\n",
       "  </thead>\n",
       "  <tbody>\n",
       "    <tr>\n",
       "      <th>0</th>\n",
       "      <td>-0.123084</td>\n",
       "      <td>-0.909835</td>\n",
       "      <td>-0.399468</td>\n",
       "      <td>idle</td>\n",
       "    </tr>\n",
       "    <tr>\n",
       "      <th>1</th>\n",
       "      <td>-0.120303</td>\n",
       "      <td>-0.903106</td>\n",
       "      <td>-0.381034</td>\n",
       "      <td>idle</td>\n",
       "    </tr>\n",
       "    <tr>\n",
       "      <th>2</th>\n",
       "      <td>-0.123200</td>\n",
       "      <td>-0.893145</td>\n",
       "      <td>-0.454663</td>\n",
       "      <td>idle</td>\n",
       "    </tr>\n",
       "    <tr>\n",
       "      <th>3</th>\n",
       "      <td>-0.136790</td>\n",
       "      <td>-0.916880</td>\n",
       "      <td>-0.454484</td>\n",
       "      <td>idle</td>\n",
       "    </tr>\n",
       "    <tr>\n",
       "      <th>4</th>\n",
       "      <td>-0.129392</td>\n",
       "      <td>-0.911907</td>\n",
       "      <td>-0.371385</td>\n",
       "      <td>idle</td>\n",
       "    </tr>\n",
       "    <tr>\n",
       "      <th>...</th>\n",
       "      <td>...</td>\n",
       "      <td>...</td>\n",
       "      <td>...</td>\n",
       "      <td>...</td>\n",
       "    </tr>\n",
       "    <tr>\n",
       "      <th>299995</th>\n",
       "      <td>0.829013</td>\n",
       "      <td>0.188025</td>\n",
       "      <td>0.411385</td>\n",
       "      <td>used</td>\n",
       "    </tr>\n",
       "    <tr>\n",
       "      <th>299996</th>\n",
       "      <td>0.836796</td>\n",
       "      <td>0.229350</td>\n",
       "      <td>0.286411</td>\n",
       "      <td>used</td>\n",
       "    </tr>\n",
       "    <tr>\n",
       "      <th>299997</th>\n",
       "      <td>0.761621</td>\n",
       "      <td>0.206068</td>\n",
       "      <td>0.390765</td>\n",
       "      <td>used</td>\n",
       "    </tr>\n",
       "    <tr>\n",
       "      <th>299998</th>\n",
       "      <td>0.846855</td>\n",
       "      <td>0.359300</td>\n",
       "      <td>0.419307</td>\n",
       "      <td>used</td>\n",
       "    </tr>\n",
       "    <tr>\n",
       "      <th>299999</th>\n",
       "      <td>0.830327</td>\n",
       "      <td>0.310608</td>\n",
       "      <td>0.336542</td>\n",
       "      <td>used</td>\n",
       "    </tr>\n",
       "  </tbody>\n",
       "</table>\n",
       "<p>300000 rows × 4 columns</p>\n",
       "</div>"
      ],
      "text/plain": [
       "               x         y         z status\n",
       "0      -0.123084 -0.909835 -0.399468   idle\n",
       "1      -0.120303 -0.903106 -0.381034   idle\n",
       "2      -0.123200 -0.893145 -0.454663   idle\n",
       "3      -0.136790 -0.916880 -0.454484   idle\n",
       "4      -0.129392 -0.911907 -0.371385   idle\n",
       "...          ...       ...       ...    ...\n",
       "299995  0.829013  0.188025  0.411385   used\n",
       "299996  0.836796  0.229350  0.286411   used\n",
       "299997  0.761621  0.206068  0.390765   used\n",
       "299998  0.846855  0.359300  0.419307   used\n",
       "299999  0.830327  0.310608  0.336542   used\n",
       "\n",
       "[300000 rows x 4 columns]"
      ]
     },
     "execution_count": 40,
     "metadata": {},
     "output_type": "execute_result"
    }
   ],
   "source": [
    "df = pd.read_csv('synthetic_data.csv')\n",
    "df.isnull().sum()\n",
    "df.drop_duplicates()\n"
   ]
  },
  {
   "cell_type": "code",
   "execution_count": 41,
   "metadata": {},
   "outputs": [],
   "source": [
    "idle_data = df[df['status'] == 'idle']\n",
    "false_motion_data = df[df['status'] == 'false_motion']\n",
    "used_data = df[df['status'] == 'used']"
   ]
  },
  {
   "cell_type": "code",
   "execution_count": 42,
   "metadata": {},
   "outputs": [],
   "source": [
    "from scipy.stats import zscore\n",
    "\n",
    "def remove_outliers_by_zscore(data, columns, threshold=3):\n",
    "    z_scores = zscore(data[columns])\n",
    "    return data[(z_scores < threshold).all(axis=1)]\n",
    "\n",
    "idle_data_cleaned = remove_outliers_by_zscore(idle_data, ['x', 'y', 'z'])\n",
    "false_motion_data_cleaned = remove_outliers_by_zscore(false_motion_data, ['x', 'y', 'z'])\n",
    "used_data_cleaned = remove_outliers_by_zscore(used_data, ['x', 'y', 'z'])"
   ]
  },
  {
   "cell_type": "code",
   "execution_count": 43,
   "metadata": {},
   "outputs": [],
   "source": [
    "df = pd.concat([\n",
    "    idle_data_cleaned,\n",
    "    false_motion_data_cleaned,\n",
    "    used_data_cleaned\n",
    "])\n",
    "\n",
    "df.reset_index(drop=True, inplace=True)"
   ]
  },
  {
   "cell_type": "code",
   "execution_count": 44,
   "metadata": {},
   "outputs": [],
   "source": [
    "df['magnitude'] = np.sqrt(df['x']**2 + df['y']**2 + df['z']**2)\n"
   ]
  },
  {
   "cell_type": "code",
   "execution_count": 45,
   "metadata": {},
   "outputs": [],
   "source": [
    "window_size = 10\n",
    "\n",
    "# Calculate rolling mean, standard deviation, max, and min\n",
    "df['rolling_mean'] = df['magnitude'].rolling(window=window_size).mean()\n",
    "df['rolling_std'] = df['magnitude'].rolling(window=window_size).std()\n",
    "df['rolling_max'] = df['magnitude'].rolling(window=window_size).max()\n",
    "df['rolling_min'] = df['magnitude'].rolling(window=window_size).min()"
   ]
  },
  {
   "cell_type": "code",
   "execution_count": 46,
   "metadata": {},
   "outputs": [],
   "source": [
    "df.dropna(subset=['rolling_mean', 'rolling_std', 'rolling_max', 'rolling_min'], inplace=True)\n",
    "df.reset_index(drop=True, inplace=True)"
   ]
  },
  {
   "cell_type": "code",
   "execution_count": 47,
   "metadata": {},
   "outputs": [],
   "source": [
    "from sklearn.preprocessing import LabelEncoder\n",
    "\n",
    "encoder = LabelEncoder()\n",
    "df['status_encoded'] = encoder.fit_transform(df['status'])"
   ]
  },
  {
   "cell_type": "code",
   "execution_count": 48,
   "metadata": {},
   "outputs": [],
   "source": [
    "from sklearn.model_selection import train_test_split\n",
    "\n",
    "X = df[['x', 'y', 'z', 'magnitude', 'rolling_mean', 'rolling_std', 'rolling_max', 'rolling_min']]\n",
    "y = df['status_encoded']\n",
    "\n",
    "X_train, X_test, y_train, y_test = train_test_split(X, y, test_size=0.2, random_state=42)"
   ]
  },
  {
   "cell_type": "code",
   "execution_count": 49,
   "metadata": {},
   "outputs": [],
   "source": [
    "from sklearn.preprocessing import StandardScaler\n",
    "\n",
    "scaler = StandardScaler()\n",
    "df[['x', 'y', 'z', 'magnitude', 'rolling_mean', 'rolling_std', 'rolling_max', 'rolling_min']] = scaler.fit_transform(df[['x', 'y', 'z', 'magnitude', 'rolling_mean', 'rolling_std', 'rolling_max', 'rolling_min']])"
   ]
  },
  {
   "cell_type": "markdown",
   "metadata": {},
   "source": [
    "**Train Random Forest Algorithm and Evaluation**"
   ]
  },
  {
   "cell_type": "code",
   "execution_count": 12,
   "metadata": {},
   "outputs": [],
   "source": [
    "from sklearn.ensemble import RandomForestClassifier\n",
    "\n",
    "clf = RandomForestClassifier(random_state=42)\n",
    "clf.fit(X_train, y_train)\n",
    "y_pred = clf.predict(X_test)"
   ]
  },
  {
   "cell_type": "code",
   "execution_count": 13,
   "metadata": {},
   "outputs": [
    {
     "name": "stdout",
     "output_type": "stream",
     "text": [
      "              precision    recall  f1-score   support\n",
      "\n",
      "           0       0.97      0.96      0.97     19879\n",
      "           1       0.96      0.97      0.97     19864\n",
      "           2       1.00      1.00      1.00     20015\n",
      "\n",
      "    accuracy                           0.98     59758\n",
      "   macro avg       0.98      0.98      0.98     59758\n",
      "weighted avg       0.98      0.98      0.98     59758\n",
      "\n",
      "Accuracy: 0.98\n"
     ]
    }
   ],
   "source": [
    "from sklearn.metrics import classification_report, accuracy_score\n",
    "\n",
    "print(classification_report(y_test, y_pred))\n",
    "print(f\"Accuracy: {accuracy_score(y_test, y_pred):.2f}\")"
   ]
  },
  {
   "cell_type": "markdown",
   "metadata": {},
   "source": [
    "**Train Logistic Regression Algorithm and Evaluation**"
   ]
  },
  {
   "cell_type": "code",
   "execution_count": 38,
   "metadata": {},
   "outputs": [],
   "source": [
    "from sklearn.linear_model import LogisticRegression\n",
    "\n",
    "log_reg_model = LogisticRegression(random_state=42, max_iter=1000)\n",
    "log_reg_model.fit(X_train, y_train)\n",
    "y_pred_lr = log_reg_model.predict(X_test)"
   ]
  },
  {
   "cell_type": "code",
   "execution_count": 39,
   "metadata": {},
   "outputs": [
    {
     "name": "stdout",
     "output_type": "stream",
     "text": [
      "\n",
      "Logistic Regression Classification Report:\n",
      "              precision    recall  f1-score   support\n",
      "\n",
      "false_motion       0.95      0.92      0.93     19879\n",
      "        idle       0.92      0.96      0.94     19864\n",
      "        used       1.00      1.00      1.00     20015\n",
      "\n",
      "    accuracy                           0.96     59758\n",
      "   macro avg       0.96      0.96      0.96     59758\n",
      "weighted avg       0.96      0.96      0.96     59758\n",
      "\n",
      "Accuracy: 0.96\n"
     ]
    }
   ],
   "source": [
    "print(\"\\nLogistic Regression Classification Report:\")\n",
    "print(classification_report(y_test, y_pred_lr, target_names=encoder.classes_))\n",
    "print(f\"Accuracy: {accuracy_score(y_test, y_pred_lr):.2f}\")"
   ]
  },
  {
   "cell_type": "markdown",
   "metadata": {},
   "source": [
    "**Train Decision Tree Algorithm and Evaluation**"
   ]
  },
  {
   "cell_type": "code",
   "execution_count": 50,
   "metadata": {},
   "outputs": [],
   "source": [
    "from sklearn.tree import DecisionTreeClassifier\n",
    "\n",
    "dt_model = DecisionTreeClassifier(random_state=42)\n",
    "dt_model.fit(X_train, y_train)\n",
    "y_pred_dt = dt_model.predict(X_test)"
   ]
  },
  {
   "cell_type": "code",
   "execution_count": 51,
   "metadata": {},
   "outputs": [
    {
     "name": "stdout",
     "output_type": "stream",
     "text": [
      "\n",
      "Decision Tree Classification Report:\n",
      "              precision    recall  f1-score   support\n",
      "\n",
      "false_motion       0.95      0.95      0.95     19879\n",
      "        idle       0.95      0.95      0.95     19864\n",
      "        used       1.00      1.00      1.00     20015\n",
      "\n",
      "    accuracy                           0.97     59758\n",
      "   macro avg       0.97      0.97      0.97     59758\n",
      "weighted avg       0.97      0.97      0.97     59758\n",
      "\n",
      "Accuracy: 0.97\n"
     ]
    }
   ],
   "source": [
    "print(\"\\nDecision Tree Classification Report:\")\n",
    "print(classification_report(y_test, y_pred_dt, target_names=encoder.classes_))\n",
    "print(f\"Accuracy: {accuracy_score(y_test, y_pred_dt):.2f}\")"
   ]
  }
 ],
 "metadata": {
  "kernelspec": {
   "display_name": ".venv",
   "language": "python",
   "name": "python3"
  },
  "language_info": {
   "codemirror_mode": {
    "name": "ipython",
    "version": 3
   },
   "file_extension": ".py",
   "mimetype": "text/x-python",
   "name": "python",
   "nbconvert_exporter": "python",
   "pygments_lexer": "ipython3",
   "version": "3.12.3"
  }
 },
 "nbformat": 4,
 "nbformat_minor": 2
}

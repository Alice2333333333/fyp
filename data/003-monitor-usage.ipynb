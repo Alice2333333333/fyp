{
 "cells": [
  {
   "cell_type": "code",
   "execution_count": 2,
   "metadata": {},
   "outputs": [],
   "source": [
    "import pandas as pd\n",
    "import numpy as np\n",
    "import matplotlib.pyplot as plt"
   ]
  },
  {
   "cell_type": "code",
   "execution_count": 17,
   "metadata": {},
   "outputs": [],
   "source": [
    "df = pd.read_csv('2_less_used_result.csv')\n"
   ]
  },
  {
   "cell_type": "code",
   "execution_count": 18,
   "metadata": {},
   "outputs": [],
   "source": [
    "df = df[~df['status'].isin(['false_motion', 'idle'])]\n",
    "df.reset_index(drop=True, inplace=True)\n",
    "\n"
   ]
  },
  {
   "cell_type": "code",
   "execution_count": 19,
   "metadata": {},
   "outputs": [
    {
     "data": {
      "text/plain": [
       "24886"
      ]
     },
     "execution_count": 19,
     "metadata": {},
     "output_type": "execute_result"
    }
   ],
   "source": [
    "len(df)"
   ]
  },
  {
   "cell_type": "code",
   "execution_count": 20,
   "metadata": {},
   "outputs": [],
   "source": [
    "from datetime import datetime, timedelta\n",
    "\n",
    "total_rows = df.shape[0]\n",
    "\n",
    "# Define percentage distribution for each day\n",
    "distribution = [0.30, 0.10, 0.20, 0.05, 0.05, 0.15, 0.15]\n",
    "\n",
    "# Calculate rows for each day\n",
    "rows_per_day = [int(total_rows * percent) for percent in distribution]\n",
    "\n",
    "while sum(rows_per_day) < total_rows:\n",
    "    rows_per_day[0] += 1 \n"
   ]
  },
  {
   "cell_type": "code",
   "execution_count": 21,
   "metadata": {},
   "outputs": [],
   "source": [
    "# Generate timestamps for each day\n",
    "now = datetime.now()\n",
    "timestamps = []\n",
    "row_counter = 0\n",
    "\n",
    "for i, rows in enumerate(rows_per_day):\n",
    "    start_time = now - timedelta(days=i)\n",
    "    for j in range(rows):\n",
    "        timestamps.append(start_time - timedelta(seconds=j))\n",
    "        row_counter += 1\n",
    "\n",
    "# Assign to DataFrame\n",
    "df['timestamp'] = timestamps[:total_rows]"
   ]
  },
  {
   "cell_type": "code",
   "execution_count": 22,
   "metadata": {},
   "outputs": [
    {
     "data": {
      "text/html": [
       "<div>\n",
       "<style scoped>\n",
       "    .dataframe tbody tr th:only-of-type {\n",
       "        vertical-align: middle;\n",
       "    }\n",
       "\n",
       "    .dataframe tbody tr th {\n",
       "        vertical-align: top;\n",
       "    }\n",
       "\n",
       "    .dataframe thead th {\n",
       "        text-align: right;\n",
       "    }\n",
       "</style>\n",
       "<table border=\"1\" class=\"dataframe\">\n",
       "  <thead>\n",
       "    <tr style=\"text-align: right;\">\n",
       "      <th></th>\n",
       "      <th>x</th>\n",
       "      <th>y</th>\n",
       "      <th>z</th>\n",
       "      <th>status</th>\n",
       "      <th>magnitude</th>\n",
       "      <th>rolling_mean</th>\n",
       "      <th>rolling_std</th>\n",
       "      <th>rolling_max</th>\n",
       "      <th>rolling_min</th>\n",
       "      <th>encoded_status</th>\n",
       "      <th>estimated_status</th>\n",
       "      <th>timestamp</th>\n",
       "    </tr>\n",
       "  </thead>\n",
       "  <tbody>\n",
       "    <tr>\n",
       "      <th>0</th>\n",
       "      <td>1.219077</td>\n",
       "      <td>1.663839</td>\n",
       "      <td>1.911732</td>\n",
       "      <td>used</td>\n",
       "      <td>0.818827</td>\n",
       "      <td>0.970321</td>\n",
       "      <td>-0.591143</td>\n",
       "      <td>-0.448047</td>\n",
       "      <td>0.824443</td>\n",
       "      <td>2</td>\n",
       "      <td>2</td>\n",
       "      <td>2025-01-04 20:19:45.809371</td>\n",
       "    </tr>\n",
       "    <tr>\n",
       "      <th>1</th>\n",
       "      <td>1.357358</td>\n",
       "      <td>1.261998</td>\n",
       "      <td>2.408094</td>\n",
       "      <td>used</td>\n",
       "      <td>2.475637</td>\n",
       "      <td>1.909371</td>\n",
       "      <td>-0.099009</td>\n",
       "      <td>1.020973</td>\n",
       "      <td>0.916842</td>\n",
       "      <td>2</td>\n",
       "      <td>2</td>\n",
       "      <td>2025-01-04 20:19:44.809371</td>\n",
       "    </tr>\n",
       "    <tr>\n",
       "      <th>2</th>\n",
       "      <td>1.201473</td>\n",
       "      <td>1.140877</td>\n",
       "      <td>1.687566</td>\n",
       "      <td>used</td>\n",
       "      <td>-0.844946</td>\n",
       "      <td>1.583596</td>\n",
       "      <td>0.116395</td>\n",
       "      <td>1.020973</td>\n",
       "      <td>0.450956</td>\n",
       "      <td>2</td>\n",
       "      <td>2</td>\n",
       "      <td>2025-01-04 20:19:43.809371</td>\n",
       "    </tr>\n",
       "    <tr>\n",
       "      <th>3</th>\n",
       "      <td>1.681251</td>\n",
       "      <td>1.184432</td>\n",
       "      <td>1.047077</td>\n",
       "      <td>used</td>\n",
       "      <td>0.501345</td>\n",
       "      <td>1.597076</td>\n",
       "      <td>0.116164</td>\n",
       "      <td>1.020973</td>\n",
       "      <td>0.450956</td>\n",
       "      <td>2</td>\n",
       "      <td>2</td>\n",
       "      <td>2025-01-04 20:19:42.809371</td>\n",
       "    </tr>\n",
       "    <tr>\n",
       "      <th>4</th>\n",
       "      <td>1.592753</td>\n",
       "      <td>1.789187</td>\n",
       "      <td>1.312805</td>\n",
       "      <td>used</td>\n",
       "      <td>1.564257</td>\n",
       "      <td>2.222264</td>\n",
       "      <td>0.101516</td>\n",
       "      <td>1.020973</td>\n",
       "      <td>0.450956</td>\n",
       "      <td>2</td>\n",
       "      <td>2</td>\n",
       "      <td>2025-01-04 20:19:41.809371</td>\n",
       "    </tr>\n",
       "  </tbody>\n",
       "</table>\n",
       "</div>"
      ],
      "text/plain": [
       "          x         y         z status  magnitude  rolling_mean  rolling_std  \\\n",
       "0  1.219077  1.663839  1.911732   used   0.818827      0.970321    -0.591143   \n",
       "1  1.357358  1.261998  2.408094   used   2.475637      1.909371    -0.099009   \n",
       "2  1.201473  1.140877  1.687566   used  -0.844946      1.583596     0.116395   \n",
       "3  1.681251  1.184432  1.047077   used   0.501345      1.597076     0.116164   \n",
       "4  1.592753  1.789187  1.312805   used   1.564257      2.222264     0.101516   \n",
       "\n",
       "   rolling_max  rolling_min  encoded_status  estimated_status  \\\n",
       "0    -0.448047     0.824443               2                 2   \n",
       "1     1.020973     0.916842               2                 2   \n",
       "2     1.020973     0.450956               2                 2   \n",
       "3     1.020973     0.450956               2                 2   \n",
       "4     1.020973     0.450956               2                 2   \n",
       "\n",
       "                   timestamp  \n",
       "0 2025-01-04 20:19:45.809371  \n",
       "1 2025-01-04 20:19:44.809371  \n",
       "2 2025-01-04 20:19:43.809371  \n",
       "3 2025-01-04 20:19:42.809371  \n",
       "4 2025-01-04 20:19:41.809371  "
      ]
     },
     "execution_count": 22,
     "metadata": {},
     "output_type": "execute_result"
    }
   ],
   "source": [
    "df.head()"
   ]
  },
  {
   "cell_type": "code",
   "execution_count": 23,
   "metadata": {},
   "outputs": [],
   "source": [
    "df = df.sort_values(by='timestamp')\n",
    "df.reset_index(drop=True, inplace=True)\n"
   ]
  },
  {
   "cell_type": "code",
   "execution_count": 24,
   "metadata": {},
   "outputs": [
    {
     "data": {
      "image/png": "[encoded data removed]",
      "text/plain": [
       "<Figure size 1000x600 with 1 Axes>"
      ]
     },
     "metadata": {},
     "output_type": "display_data"
    }
   ],
   "source": [
    "# Convert timestamp to datetime format\n",
    "df['timestamp'] = pd.to_datetime(df['timestamp'])\n",
    "\n",
    "# Extract date from the timestamp\n",
    "df['date'] = df['timestamp'].dt.date\n",
    "\n",
    "# Calculate total usage in hours per day\n",
    "usage_hours = df.groupby('date').size().reset_index(name='usage_seconds')\n",
    "usage_hours['usage_hours'] = usage_hours['usage_seconds'] / 3600\n",
    "\n",
    "plt.figure(figsize=(10, 6))\n",
    "plt.barh(usage_hours['date'].astype(str), usage_hours['usage_hours'])\n",
    "plt.xlabel('Usage in Hours')\n",
    "plt.ylabel('Date')\n",
    "plt.title('Daily Usage in Hours')\n",
    "plt.grid(axis='x', linestyle='--', alpha=0.7)\n",
    "\n",
    "plt.show()"
   ]
  },
  {
   "cell_type": "markdown",
   "metadata": {},
   "source": [
    "**Save data into JSON format**"
   ]
  },
  {
   "cell_type": "code",
   "execution_count": 25,
   "metadata": {},
   "outputs": [],
   "source": [
    "import json\n",
    "\n",
    "# Convert timestamp to datetime format\n",
    "df['timestamp'] = pd.to_datetime(df['timestamp'])\n",
    "\n",
    "# Extract date from the timestamp\n",
    "df['date'] = df['timestamp'].dt.date\n",
    "\n",
    "# Calculate total usage per day (1 row = 1 second)\n",
    "usage_per_day = df.groupby('date').size().reset_index(name='usage_seconds')\n",
    "\n",
    "# Convert to list of dictionaries for JSON\n",
    "usage_list = usage_per_day.to_dict(orient='records')\n",
    "\n",
    "json_data = [{\"date\": str(entry['date']), \"usage_hours\": round(entry['usage_seconds'] / 3600, 2)} for entry in usage_list]\n",
    "with open(\"monitor_usage_2.json\", \"w\") as json_file:\n",
    "    json.dump(json_data, json_file, indent=4)\n"
   ]
  }
 ],
 "metadata": {
  "kernelspec": {
   "display_name": ".venv",
   "language": "python",
   "name": "python3"
  },
  "language_info": {
   "codemirror_mode": {
    "name": "ipython",
    "version": 3
   },
   "file_extension": ".py",
   "mimetype": "text/x-python",
   "name": "python",
   "nbconvert_exporter": "python",
   "pygments_lexer": "ipython3",
   "version": "3.12.3"
  }
 },
 "nbformat": 4,
 "nbformat_minor": 2
}

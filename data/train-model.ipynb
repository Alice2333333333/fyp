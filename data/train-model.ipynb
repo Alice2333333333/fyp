{
 "cells": [
  {
   "cell_type": "code",
   "execution_count": 1,
   "metadata": {},
   "outputs": [],
   "source": [
    "import pandas as pd\n",
    "import numpy as np\n",
    "import matplotlib.pyplot as plt"
   ]
  },
  {
   "cell_type": "markdown",
   "metadata": {},
   "source": [
    "**Data Cleaning**"
   ]
  },
  {
   "cell_type": "code",
   "execution_count": 2,
   "metadata": {},
   "outputs": [
    {
     "data": {
      "text/plain": [
       "x         0\n",
       "y         0\n",
       "z         0\n",
       "status    0\n",
       "dtype: int64"
      ]
     },
     "execution_count": 2,
     "metadata": {},
     "output_type": "execute_result"
    }
   ],
   "source": [
    "df = pd.read_csv('synthetic_data.csv')\n",
    "\n",
    "# Check for missing values\n",
    "df.isnull().sum()"
   ]
  },
  {
   "cell_type": "code",
   "execution_count": 3,
   "metadata": {},
   "outputs": [
    {
     "data": {
      "text/html": [
       "<div>\n",
       "<style scoped>\n",
       "    .dataframe tbody tr th:only-of-type {\n",
       "        vertical-align: middle;\n",
       "    }\n",
       "\n",
       "    .dataframe tbody tr th {\n",
       "        vertical-align: top;\n",
       "    }\n",
       "\n",
       "    .dataframe thead th {\n",
       "        text-align: right;\n",
       "    }\n",
       "</style>\n",
       "<table border=\"1\" class=\"dataframe\">\n",
       "  <thead>\n",
       "    <tr style=\"text-align: right;\">\n",
       "      <th></th>\n",
       "      <th>x</th>\n",
       "      <th>y</th>\n",
       "      <th>z</th>\n",
       "      <th>status</th>\n",
       "    </tr>\n",
       "  </thead>\n",
       "  <tbody>\n",
       "    <tr>\n",
       "      <th>0</th>\n",
       "      <td>-0.152375</td>\n",
       "      <td>-0.898320</td>\n",
       "      <td>-0.371662</td>\n",
       "      <td>idle</td>\n",
       "    </tr>\n",
       "    <tr>\n",
       "      <th>1</th>\n",
       "      <td>-0.133481</td>\n",
       "      <td>-0.877780</td>\n",
       "      <td>-0.385113</td>\n",
       "      <td>idle</td>\n",
       "    </tr>\n",
       "    <tr>\n",
       "      <th>2</th>\n",
       "      <td>-0.121285</td>\n",
       "      <td>-0.909976</td>\n",
       "      <td>-0.381254</td>\n",
       "      <td>idle</td>\n",
       "    </tr>\n",
       "    <tr>\n",
       "      <th>3</th>\n",
       "      <td>-0.127859</td>\n",
       "      <td>-0.899945</td>\n",
       "      <td>-0.426131</td>\n",
       "      <td>idle</td>\n",
       "    </tr>\n",
       "    <tr>\n",
       "      <th>4</th>\n",
       "      <td>-0.131367</td>\n",
       "      <td>-0.919183</td>\n",
       "      <td>-0.425946</td>\n",
       "      <td>idle</td>\n",
       "    </tr>\n",
       "    <tr>\n",
       "      <th>...</th>\n",
       "      <td>...</td>\n",
       "      <td>...</td>\n",
       "      <td>...</td>\n",
       "      <td>...</td>\n",
       "    </tr>\n",
       "    <tr>\n",
       "      <th>99995</th>\n",
       "      <td>0.683156</td>\n",
       "      <td>0.519731</td>\n",
       "      <td>-0.366067</td>\n",
       "      <td>soft_concrete</td>\n",
       "    </tr>\n",
       "    <tr>\n",
       "      <th>99996</th>\n",
       "      <td>0.787088</td>\n",
       "      <td>0.319512</td>\n",
       "      <td>-0.601208</td>\n",
       "      <td>soft_concrete</td>\n",
       "    </tr>\n",
       "    <tr>\n",
       "      <th>99997</th>\n",
       "      <td>0.742647</td>\n",
       "      <td>0.382496</td>\n",
       "      <td>-0.581437</td>\n",
       "      <td>soft_concrete</td>\n",
       "    </tr>\n",
       "    <tr>\n",
       "      <th>99998</th>\n",
       "      <td>0.627654</td>\n",
       "      <td>0.409057</td>\n",
       "      <td>-0.536827</td>\n",
       "      <td>soft_concrete</td>\n",
       "    </tr>\n",
       "    <tr>\n",
       "      <th>99999</th>\n",
       "      <td>0.623625</td>\n",
       "      <td>0.757065</td>\n",
       "      <td>0.173144</td>\n",
       "      <td>soft_concrete</td>\n",
       "    </tr>\n",
       "  </tbody>\n",
       "</table>\n",
       "<p>100000 rows × 4 columns</p>\n",
       "</div>"
      ],
      "text/plain": [
       "              x         y         z         status\n",
       "0     -0.152375 -0.898320 -0.371662           idle\n",
       "1     -0.133481 -0.877780 -0.385113           idle\n",
       "2     -0.121285 -0.909976 -0.381254           idle\n",
       "3     -0.127859 -0.899945 -0.426131           idle\n",
       "4     -0.131367 -0.919183 -0.425946           idle\n",
       "...         ...       ...       ...            ...\n",
       "99995  0.683156  0.519731 -0.366067  soft_concrete\n",
       "99996  0.787088  0.319512 -0.601208  soft_concrete\n",
       "99997  0.742647  0.382496 -0.581437  soft_concrete\n",
       "99998  0.627654  0.409057 -0.536827  soft_concrete\n",
       "99999  0.623625  0.757065  0.173144  soft_concrete\n",
       "\n",
       "[100000 rows x 4 columns]"
      ]
     },
     "execution_count": 3,
     "metadata": {},
     "output_type": "execute_result"
    }
   ],
   "source": [
    "# Remove duplicates\n",
    "df.drop_duplicates()"
   ]
  },
  {
   "cell_type": "markdown",
   "metadata": {},
   "source": [
    "**Normalization of Data**"
   ]
  },
  {
   "cell_type": "code",
   "execution_count": 4,
   "metadata": {},
   "outputs": [],
   "source": [
    "from sklearn.preprocessing import StandardScaler\n",
    "\n",
    "scaler = StandardScaler()\n",
    "df[['x', 'y', 'z']] = scaler.fit_transform(df[['x', 'y', 'z']])"
   ]
  },
  {
   "cell_type": "code",
   "execution_count": 5,
   "metadata": {},
   "outputs": [
    {
     "data": {
      "text/html": [
       "<div>\n",
       "<style scoped>\n",
       "    .dataframe tbody tr th:only-of-type {\n",
       "        vertical-align: middle;\n",
       "    }\n",
       "\n",
       "    .dataframe tbody tr th {\n",
       "        vertical-align: top;\n",
       "    }\n",
       "\n",
       "    .dataframe thead th {\n",
       "        text-align: right;\n",
       "    }\n",
       "</style>\n",
       "<table border=\"1\" class=\"dataframe\">\n",
       "  <thead>\n",
       "    <tr style=\"text-align: right;\">\n",
       "      <th></th>\n",
       "      <th>x</th>\n",
       "      <th>y</th>\n",
       "      <th>z</th>\n",
       "      <th>status</th>\n",
       "    </tr>\n",
       "  </thead>\n",
       "  <tbody>\n",
       "    <tr>\n",
       "      <th>0</th>\n",
       "      <td>-1.027891</td>\n",
       "      <td>-0.970761</td>\n",
       "      <td>-0.582901</td>\n",
       "      <td>idle</td>\n",
       "    </tr>\n",
       "    <tr>\n",
       "      <th>1</th>\n",
       "      <td>-0.989418</td>\n",
       "      <td>-0.938024</td>\n",
       "      <td>-0.619480</td>\n",
       "      <td>idle</td>\n",
       "    </tr>\n",
       "    <tr>\n",
       "      <th>2</th>\n",
       "      <td>-0.964582</td>\n",
       "      <td>-0.989339</td>\n",
       "      <td>-0.608987</td>\n",
       "      <td>idle</td>\n",
       "    </tr>\n",
       "    <tr>\n",
       "      <th>3</th>\n",
       "      <td>-0.977969</td>\n",
       "      <td>-0.973351</td>\n",
       "      <td>-0.731030</td>\n",
       "      <td>idle</td>\n",
       "    </tr>\n",
       "    <tr>\n",
       "      <th>4</th>\n",
       "      <td>-0.985113</td>\n",
       "      <td>-1.004014</td>\n",
       "      <td>-0.730528</td>\n",
       "      <td>idle</td>\n",
       "    </tr>\n",
       "  </tbody>\n",
       "</table>\n",
       "</div>"
      ],
      "text/plain": [
       "          x         y         z status\n",
       "0 -1.027891 -0.970761 -0.582901   idle\n",
       "1 -0.989418 -0.938024 -0.619480   idle\n",
       "2 -0.964582 -0.989339 -0.608987   idle\n",
       "3 -0.977969 -0.973351 -0.731030   idle\n",
       "4 -0.985113 -1.004014 -0.730528   idle"
      ]
     },
     "execution_count": 5,
     "metadata": {},
     "output_type": "execute_result"
    }
   ],
   "source": [
    "df.head()"
   ]
  },
  {
   "cell_type": "markdown",
   "metadata": {},
   "source": [
    "**Feature Engineering**"
   ]
  },
  {
   "cell_type": "code",
   "execution_count": 5,
   "metadata": {},
   "outputs": [],
   "source": [
    "df['magnitude'] = np.sqrt(df['x']**2 + df['y']**2 + df['z']**2)\n"
   ]
  },
  {
   "cell_type": "code",
   "execution_count": 6,
   "metadata": {},
   "outputs": [],
   "source": [
    "window_size = 10\n",
    "\n",
    "# Calculate rolling mean, standard deviation, max, and min\n",
    "df['rolling_mean'] = df['magnitude'].rolling(window=window_size).mean()\n",
    "df['rolling_std'] = df['magnitude'].rolling(window=window_size).std()\n",
    "df['rolling_max'] = df['magnitude'].rolling(window=window_size).max()\n",
    "df['rolling_min'] = df['magnitude'].rolling(window=window_size).min()\n"
   ]
  },
  {
   "cell_type": "code",
   "execution_count": 7,
   "metadata": {},
   "outputs": [],
   "source": [
    "from scipy.fft import fft\n",
    "\n",
    "# Compute FFT to analyze frequency\n",
    "df['fft'] = fft(df['magnitude'])\n",
    "df['fft_amplitude'] = np.abs(df['fft'][:len(df)//2])\n"
   ]
  },
  {
   "cell_type": "code",
   "execution_count": 8,
   "metadata": {},
   "outputs": [],
   "source": [
    "from sklearn.preprocessing import LabelEncoder\n",
    "\n",
    "encoder = LabelEncoder()\n",
    "df['status_encoded'] = encoder.fit_transform(df['status'])\n"
   ]
  },
  {
   "cell_type": "markdown",
   "metadata": {},
   "source": [
    "**Train Test Split**"
   ]
  },
  {
   "cell_type": "code",
   "execution_count": 9,
   "metadata": {},
   "outputs": [],
   "source": [
    "from sklearn.model_selection import train_test_split\n",
    "\n",
    "X = df[['magnitude', 'rolling_mean', 'rolling_std', 'rolling_max', 'rolling_min']]\n",
    "y = df['status_encoded']\n",
    "\n",
    "# Handle NaN values generated by rolling operations\n",
    "X = X.dropna()\n",
    "y = y[X.index]\n",
    "\n",
    "X_train, X_test, y_train, y_test = train_test_split(X, y, test_size=0.2, random_state=42)\n"
   ]
  },
  {
   "cell_type": "markdown",
   "metadata": {},
   "source": [
    "**Train Model**"
   ]
  },
  {
   "cell_type": "code",
   "execution_count": 10,
   "metadata": {},
   "outputs": [],
   "source": [
    "from sklearn.ensemble import RandomForestClassifier\n",
    "\n",
    "clf = RandomForestClassifier(random_state=42)\n",
    "clf.fit(X_train, y_train)\n",
    "y_pred = clf.predict(X_test)\n"
   ]
  },
  {
   "cell_type": "code",
   "execution_count": 11,
   "metadata": {},
   "outputs": [
    {
     "name": "stdout",
     "output_type": "stream",
     "text": [
      "              precision    recall  f1-score   support\n",
      "\n",
      "           0       0.97      0.96      0.97      4963\n",
      "           1       0.94      0.97      0.96      5029\n",
      "           2       0.97      0.93      0.95      5133\n",
      "           3       0.96      0.96      0.96      4874\n",
      "\n",
      "    accuracy                           0.96     19999\n",
      "   macro avg       0.96      0.96      0.96     19999\n",
      "weighted avg       0.96      0.96      0.96     19999\n",
      "\n",
      "Accuracy: 0.96\n"
     ]
    }
   ],
   "source": [
    "from sklearn.metrics import classification_report, accuracy_score\n",
    "\n",
    "print(classification_report(y_test, y_pred))\n",
    "print(f\"Accuracy: {accuracy_score(y_test, y_pred):.2f}\")\n"
   ]
  },
  {
   "cell_type": "code",
   "execution_count": null,
   "metadata": {},
   "outputs": [],
   "source": [
    "from sklearn.model_selection import cross_val_score\n",
    "scores = cross_val_score(clf, X, y, cv=5)\n",
    "print(f\"Cross-validation accuracy: {scores.mean():.2f}\")\n"
   ]
  },
  {
   "cell_type": "code",
   "execution_count": 65,
   "metadata": {},
   "outputs": [
    {
     "data": {
      "text/plain": [
       "<sklearn.metrics._plot.confusion_matrix.ConfusionMatrixDisplay at 0x7fa11af2f3b0>"
      ]
     },
     "execution_count": 65,
     "metadata": {},
     "output_type": "execute_result"
    },
    {
     "data": {
      "image/png": "[encoded data removed]",
      "text/plain": [
       "<Figure size 640x480 with 2 Axes>"
      ]
     },
     "metadata": {},
     "output_type": "display_data"
    }
   ],
   "source": [
    "from sklearn.metrics import confusion_matrix, ConfusionMatrixDisplay\n",
    "\n",
    "cm = confusion_matrix(y_test, y_pred)\n",
    "ConfusionMatrixDisplay(cm, display_labels=encoder.classes_).plot()\n"
   ]
  },
  {
   "cell_type": "code",
   "execution_count": 66,
   "metadata": {},
   "outputs": [
    {
     "name": "stdout",
     "output_type": "stream",
     "text": [
      "                 precision    recall  f1-score   support\n",
      "\n",
      "  hard_concrete       0.97      0.96      0.97      4963\n",
      "           idle       0.94      0.97      0.96      5029\n",
      "minor_vibration       0.97      0.93      0.95      5133\n",
      "  soft_concrete       0.96      0.96      0.96      4874\n",
      "\n",
      "       accuracy                           0.96     19999\n",
      "      macro avg       0.96      0.96      0.96     19999\n",
      "   weighted avg       0.96      0.96      0.96     19999\n",
      "\n"
     ]
    }
   ],
   "source": [
    "from sklearn.metrics import classification_report\n",
    "\n",
    "print(classification_report(y_test, y_pred, target_names=encoder.classes_))\n"
   ]
  },
  {
   "cell_type": "code",
   "execution_count": null,
   "metadata": {},
   "outputs": [
    {
     "name": "stdout",
     "output_type": "stream",
     "text": [
      "Baseline Accuracy: 0.24\n"
     ]
    }
   ],
   "source": [
    "from sklearn.dummy import DummyClassifier\n",
    "\n",
    "baseline = DummyClassifier(strategy=\"most_frequent\")\n",
    "baseline.fit(X_train, y_train)\n",
    "baseline_acc = baseline.score(X_test, y_test)\n",
    "print(f\"Baseline Accuracy: {baseline_acc:.2f}\")\n"
   ]
  },
  {
   "cell_type": "markdown",
   "metadata": {},
   "source": [
    "**Save Model**"
   ]
  },
  {
   "cell_type": "code",
   "execution_count": 13,
   "metadata": {},
   "outputs": [
    {
     "data": {
      "text/plain": [
       "['predictive_maintenance_model.pkl']"
      ]
     },
     "execution_count": 13,
     "metadata": {},
     "output_type": "execute_result"
    }
   ],
   "source": [
    "import joblib\n",
    "\n",
    "# Save the model to a file\n",
    "joblib.dump(clf, \"predictive_maintenance_model.pkl\")"
   ]
  },
  {
   "cell_type": "code",
   "execution_count": 17,
   "metadata": {},
   "outputs": [
    {
     "data": {
      "text/html": [
       "<div>\n",
       "<style scoped>\n",
       "    .dataframe tbody tr th:only-of-type {\n",
       "        vertical-align: middle;\n",
       "    }\n",
       "\n",
       "    .dataframe tbody tr th {\n",
       "        vertical-align: top;\n",
       "    }\n",
       "\n",
       "    .dataframe thead th {\n",
       "        text-align: right;\n",
       "    }\n",
       "</style>\n",
       "<table border=\"1\" class=\"dataframe\">\n",
       "  <thead>\n",
       "    <tr style=\"text-align: right;\">\n",
       "      <th></th>\n",
       "      <th>x</th>\n",
       "      <th>y</th>\n",
       "      <th>z</th>\n",
       "      <th>status</th>\n",
       "      <th>magnitude</th>\n",
       "      <th>rolling_mean</th>\n",
       "      <th>rolling_std</th>\n",
       "      <th>rolling_max</th>\n",
       "      <th>rolling_min</th>\n",
       "      <th>fft</th>\n",
       "      <th>fft_amplitude</th>\n",
       "      <th>status_encoded</th>\n",
       "    </tr>\n",
       "  </thead>\n",
       "  <tbody>\n",
       "    <tr>\n",
       "      <th>0</th>\n",
       "      <td>-1.027891</td>\n",
       "      <td>-0.970761</td>\n",
       "      <td>-0.582901</td>\n",
       "      <td>idle</td>\n",
       "      <td>1.529284</td>\n",
       "      <td>NaN</td>\n",
       "      <td>NaN</td>\n",
       "      <td>NaN</td>\n",
       "      <td>NaN</td>\n",
       "      <td>169747.678415-     0.000000j</td>\n",
       "      <td>169747.678415</td>\n",
       "      <td>1</td>\n",
       "    </tr>\n",
       "    <tr>\n",
       "      <th>1</th>\n",
       "      <td>-0.989418</td>\n",
       "      <td>-0.938024</td>\n",
       "      <td>-0.619480</td>\n",
       "      <td>idle</td>\n",
       "      <td>1.497528</td>\n",
       "      <td>NaN</td>\n",
       "      <td>NaN</td>\n",
       "      <td>NaN</td>\n",
       "      <td>NaN</td>\n",
       "      <td>-6390.727148+  9529.477330j</td>\n",
       "      <td>11473.984994</td>\n",
       "      <td>1</td>\n",
       "    </tr>\n",
       "    <tr>\n",
       "      <th>2</th>\n",
       "      <td>-0.964582</td>\n",
       "      <td>-0.989339</td>\n",
       "      <td>-0.608987</td>\n",
       "      <td>idle</td>\n",
       "      <td>1.509992</td>\n",
       "      <td>NaN</td>\n",
       "      <td>NaN</td>\n",
       "      <td>NaN</td>\n",
       "      <td>NaN</td>\n",
       "      <td>99.553973-  7009.586826j</td>\n",
       "      <td>7010.293750</td>\n",
       "      <td>1</td>\n",
       "    </tr>\n",
       "    <tr>\n",
       "      <th>3</th>\n",
       "      <td>-0.977969</td>\n",
       "      <td>-0.973351</td>\n",
       "      <td>-0.731030</td>\n",
       "      <td>idle</td>\n",
       "      <td>1.561487</td>\n",
       "      <td>NaN</td>\n",
       "      <td>NaN</td>\n",
       "      <td>NaN</td>\n",
       "      <td>NaN</td>\n",
       "      <td>2141.946018+  3256.994012j</td>\n",
       "      <td>3898.197370</td>\n",
       "      <td>1</td>\n",
       "    </tr>\n",
       "    <tr>\n",
       "      <th>4</th>\n",
       "      <td>-0.985113</td>\n",
       "      <td>-1.004014</td>\n",
       "      <td>-0.730528</td>\n",
       "      <td>idle</td>\n",
       "      <td>1.584980</td>\n",
       "      <td>NaN</td>\n",
       "      <td>NaN</td>\n",
       "      <td>NaN</td>\n",
       "      <td>NaN</td>\n",
       "      <td>24.485652+     0.708724j</td>\n",
       "      <td>24.495907</td>\n",
       "      <td>1</td>\n",
       "    </tr>\n",
       "  </tbody>\n",
       "</table>\n",
       "</div>"
      ],
      "text/plain": [
       "          x         y         z status  magnitude  rolling_mean  rolling_std  \\\n",
       "0 -1.027891 -0.970761 -0.582901   idle   1.529284           NaN          NaN   \n",
       "1 -0.989418 -0.938024 -0.619480   idle   1.497528           NaN          NaN   \n",
       "2 -0.964582 -0.989339 -0.608987   idle   1.509992           NaN          NaN   \n",
       "3 -0.977969 -0.973351 -0.731030   idle   1.561487           NaN          NaN   \n",
       "4 -0.985113 -1.004014 -0.730528   idle   1.584980           NaN          NaN   \n",
       "\n",
       "   rolling_max  rolling_min                           fft  fft_amplitude  \\\n",
       "0          NaN          NaN  169747.678415-     0.000000j  169747.678415   \n",
       "1          NaN          NaN   -6390.727148+  9529.477330j   11473.984994   \n",
       "2          NaN          NaN      99.553973-  7009.586826j    7010.293750   \n",
       "3          NaN          NaN    2141.946018+  3256.994012j    3898.197370   \n",
       "4          NaN          NaN      24.485652+     0.708724j      24.495907   \n",
       "\n",
       "   status_encoded  \n",
       "0               1  \n",
       "1               1  \n",
       "2               1  \n",
       "3               1  \n",
       "4               1  "
      ]
     },
     "execution_count": 17,
     "metadata": {},
     "output_type": "execute_result"
    }
   ],
   "source": [
    "df.head()"
   ]
  },
  {
   "cell_type": "code",
   "execution_count": 18,
   "metadata": {},
   "outputs": [],
   "source": [
    "df.to_csv(\"test.csv\", index=False)"
   ]
  },
  {
   "cell_type": "code",
   "execution_count": 20,
   "metadata": {},
   "outputs": [
    {
     "data": {
      "image/png": "[encoded data removed]",
      "text/plain": [
       "<Figure size 1200x600 with 1 Axes>"
      ]
     },
     "metadata": {},
     "output_type": "display_data"
    }
   ],
   "source": [
    "# Prepare the plot\n",
    "plt.figure(figsize=(12, 6))\n",
    "\n",
    "# Get unique statuses\n",
    "statuses = df['status'].unique()\n",
    "\n",
    "# Plot magnitude against the index for each status\n",
    "for status in statuses:\n",
    "    subset = df[df['status'] == status]\n",
    "    plt.plot(\n",
    "        subset.index, \n",
    "        subset['fft_amplitude'], \n",
    "        label=status, \n",
    "        alpha=0.7\n",
    "    )\n",
    "\n",
    "# Customize the plot\n",
    "plt.title('Magnitude vs Time (Index) by Status', fontsize=14)\n",
    "plt.xlabel('Time (Index)', fontsize=12)\n",
    "plt.ylabel('Magnitude', fontsize=12)\n",
    "plt.legend(title='Status', fontsize=10, loc='upper right')\n",
    "plt.grid(alpha=0.3)\n",
    "plt.tight_layout()\n",
    "\n",
    "# Display the plot\n",
    "plt.show()\n",
    "\n"
   ]
  },
  {
   "cell_type": "code",
   "execution_count": 24,
   "metadata": {},
   "outputs": [
    {
     "name": "stdout",
     "output_type": "stream",
     "text": [
      "   status_encoded       min            max\n",
      "0               0  0.000000       0.000000\n",
      "1               1  0.372834  169747.678415\n",
      "2               2  0.493013     284.746435\n",
      "3               3  0.000000       0.000000\n"
     ]
    }
   ],
   "source": [
    "# Group the data by 'status' and calculate the minimum and maximum fft_amplitude\n",
    "min_max_fft_amplitude = df.groupby('status_encoded')['fft_amplitude'].agg(['min', 'max']).reset_index()\n",
    "\n",
    "# Display the results\n",
    "print(min_max_fft_amplitude)\n"
   ]
  },
  {
   "cell_type": "code",
   "execution_count": 23,
   "metadata": {},
   "outputs": [
    {
     "data": {
      "text/plain": [
       "array([169747.67841481,  11473.98499436,   7010.29375002, ...,\n",
       "            0.        ,      0.        ,      0.        ])"
      ]
     },
     "execution_count": 23,
     "metadata": {},
     "output_type": "execute_result"
    }
   ],
   "source": [
    "np.nan_to_num(df['fft_amplitude'])"
   ]
  }
 ],
 "metadata": {
  "kernelspec": {
   "display_name": ".venv",
   "language": "python",
   "name": "python3"
  },
  "language_info": {
   "codemirror_mode": {
    "name": "ipython",
    "version": 3
   },
   "file_extension": ".py",
   "mimetype": "text/x-python",
   "name": "python",
   "nbconvert_exporter": "python",
   "pygments_lexer": "ipython3",
   "version": "3.12.3"
  }
 },
 "nbformat": 4,
 "nbformat_minor": 2
}

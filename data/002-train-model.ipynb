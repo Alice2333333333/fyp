{
 "cells": [
  {
   "cell_type": "code",
   "execution_count": 189,
   "metadata": {},
   "outputs": [],
   "source": [
    "import pandas as pd\n",
    "import numpy as np\n",
    "import matplotlib.pyplot as plt"
   ]
  },
  {
   "cell_type": "markdown",
   "metadata": {},
   "source": [
    "**Data Cleaning**"
   ]
  },
  {
   "cell_type": "code",
   "execution_count": 190,
   "metadata": {},
   "outputs": [
    {
     "data": {
      "text/plain": [
       "x         0\n",
       "y         0\n",
       "z         0\n",
       "status    0\n",
       "dtype: int64"
      ]
     },
     "execution_count": 190,
     "metadata": {},
     "output_type": "execute_result"
    }
   ],
   "source": [
    "df = pd.read_csv('synthetic_data.csv')\n",
    "# Check for missing values\n",
    "df.isnull().sum()\n"
   ]
  },
  {
   "cell_type": "code",
   "execution_count": 191,
   "metadata": {},
   "outputs": [
    {
     "data": {
      "text/html": [
       "<div>\n",
       "<style scoped>\n",
       "    .dataframe tbody tr th:only-of-type {\n",
       "        vertical-align: middle;\n",
       "    }\n",
       "\n",
       "    .dataframe tbody tr th {\n",
       "        vertical-align: top;\n",
       "    }\n",
       "\n",
       "    .dataframe thead th {\n",
       "        text-align: right;\n",
       "    }\n",
       "</style>\n",
       "<table border=\"1\" class=\"dataframe\">\n",
       "  <thead>\n",
       "    <tr style=\"text-align: right;\">\n",
       "      <th></th>\n",
       "      <th>x</th>\n",
       "      <th>y</th>\n",
       "      <th>z</th>\n",
       "      <th>status</th>\n",
       "    </tr>\n",
       "  </thead>\n",
       "  <tbody>\n",
       "    <tr>\n",
       "      <th>0</th>\n",
       "      <td>-0.123084</td>\n",
       "      <td>-0.909835</td>\n",
       "      <td>-0.399468</td>\n",
       "      <td>idle</td>\n",
       "    </tr>\n",
       "    <tr>\n",
       "      <th>1</th>\n",
       "      <td>-0.120303</td>\n",
       "      <td>-0.903106</td>\n",
       "      <td>-0.381034</td>\n",
       "      <td>idle</td>\n",
       "    </tr>\n",
       "    <tr>\n",
       "      <th>2</th>\n",
       "      <td>-0.123200</td>\n",
       "      <td>-0.893145</td>\n",
       "      <td>-0.454663</td>\n",
       "      <td>idle</td>\n",
       "    </tr>\n",
       "    <tr>\n",
       "      <th>3</th>\n",
       "      <td>-0.136790</td>\n",
       "      <td>-0.916880</td>\n",
       "      <td>-0.454484</td>\n",
       "      <td>idle</td>\n",
       "    </tr>\n",
       "    <tr>\n",
       "      <th>4</th>\n",
       "      <td>-0.129392</td>\n",
       "      <td>-0.911907</td>\n",
       "      <td>-0.371385</td>\n",
       "      <td>idle</td>\n",
       "    </tr>\n",
       "    <tr>\n",
       "      <th>...</th>\n",
       "      <td>...</td>\n",
       "      <td>...</td>\n",
       "      <td>...</td>\n",
       "      <td>...</td>\n",
       "    </tr>\n",
       "    <tr>\n",
       "      <th>299995</th>\n",
       "      <td>0.829013</td>\n",
       "      <td>0.188025</td>\n",
       "      <td>0.411385</td>\n",
       "      <td>used</td>\n",
       "    </tr>\n",
       "    <tr>\n",
       "      <th>299996</th>\n",
       "      <td>0.836796</td>\n",
       "      <td>0.229350</td>\n",
       "      <td>0.286411</td>\n",
       "      <td>used</td>\n",
       "    </tr>\n",
       "    <tr>\n",
       "      <th>299997</th>\n",
       "      <td>0.761621</td>\n",
       "      <td>0.206068</td>\n",
       "      <td>0.390765</td>\n",
       "      <td>used</td>\n",
       "    </tr>\n",
       "    <tr>\n",
       "      <th>299998</th>\n",
       "      <td>0.846855</td>\n",
       "      <td>0.359300</td>\n",
       "      <td>0.419307</td>\n",
       "      <td>used</td>\n",
       "    </tr>\n",
       "    <tr>\n",
       "      <th>299999</th>\n",
       "      <td>0.830327</td>\n",
       "      <td>0.310608</td>\n",
       "      <td>0.336542</td>\n",
       "      <td>used</td>\n",
       "    </tr>\n",
       "  </tbody>\n",
       "</table>\n",
       "<p>300000 rows × 4 columns</p>\n",
       "</div>"
      ],
      "text/plain": [
       "               x         y         z status\n",
       "0      -0.123084 -0.909835 -0.399468   idle\n",
       "1      -0.120303 -0.903106 -0.381034   idle\n",
       "2      -0.123200 -0.893145 -0.454663   idle\n",
       "3      -0.136790 -0.916880 -0.454484   idle\n",
       "4      -0.129392 -0.911907 -0.371385   idle\n",
       "...          ...       ...       ...    ...\n",
       "299995  0.829013  0.188025  0.411385   used\n",
       "299996  0.836796  0.229350  0.286411   used\n",
       "299997  0.761621  0.206068  0.390765   used\n",
       "299998  0.846855  0.359300  0.419307   used\n",
       "299999  0.830327  0.310608  0.336542   used\n",
       "\n",
       "[300000 rows x 4 columns]"
      ]
     },
     "execution_count": 191,
     "metadata": {},
     "output_type": "execute_result"
    }
   ],
   "source": [
    "# Remove duplicates\n",
    "df.drop_duplicates()\n"
   ]
  },
  {
   "cell_type": "code",
   "execution_count": 192,
   "metadata": {},
   "outputs": [],
   "source": [
    "idle_data = df[df['status'] == 'idle']\n",
    "false_motion_data = df[df['status'] == 'false_motion']\n",
    "used_data = df[df['status'] == 'used']\n"
   ]
  },
  {
   "cell_type": "markdown",
   "metadata": {},
   "source": [
    "**Remove Outliers Using Z-Score**"
   ]
  },
  {
   "cell_type": "code",
   "execution_count": 193,
   "metadata": {},
   "outputs": [],
   "source": [
    "from scipy.stats import zscore\n",
    "\n",
    "def remove_outliers_by_zscore(data, columns, threshold=3):\n",
    "    z_scores = zscore(data[columns])\n",
    "    return data[(z_scores < threshold).all(axis=1)]\n",
    "\n",
    "idle_data_cleaned = remove_outliers_by_zscore(idle_data, ['x', 'y', 'z'])\n",
    "false_motion_data_cleaned = remove_outliers_by_zscore(false_motion_data, ['x', 'y', 'z'])\n",
    "used_data_cleaned = remove_outliers_by_zscore(used_data, ['x', 'y', 'z'])\n"
   ]
  },
  {
   "cell_type": "code",
   "execution_count": 194,
   "metadata": {},
   "outputs": [],
   "source": [
    "df = pd.concat([\n",
    "    idle_data_cleaned,\n",
    "    false_motion_data_cleaned,\n",
    "    used_data_cleaned\n",
    "])\n",
    "\n",
    "df.reset_index(drop=True, inplace=True)\n"
   ]
  },
  {
   "cell_type": "code",
   "execution_count": 195,
   "metadata": {},
   "outputs": [],
   "source": [
    "df['magnitude'] = np.sqrt(df['x']**2 + df['y']**2 + df['z']**2)\n"
   ]
  },
  {
   "cell_type": "code",
   "execution_count": 196,
   "metadata": {},
   "outputs": [],
   "source": [
    "window_size = 10\n",
    "\n",
    "# Calculate rolling mean, standard deviation, max, and min\n",
    "df['rolling_mean'] = df['magnitude'].rolling(window=window_size).mean()\n",
    "df['rolling_std'] = df['magnitude'].rolling(window=window_size).std()\n",
    "df['rolling_max'] = df['magnitude'].rolling(window=window_size).max()\n",
    "df['rolling_min'] = df['magnitude'].rolling(window=window_size).min()"
   ]
  },
  {
   "cell_type": "code",
   "execution_count": 197,
   "metadata": {},
   "outputs": [],
   "source": [
    "df.dropna(subset=['rolling_mean', 'rolling_std', 'rolling_max', 'rolling_min'], inplace=True)\n",
    "df.reset_index(drop=True, inplace=True)"
   ]
  },
  {
   "cell_type": "code",
   "execution_count": 198,
   "metadata": {},
   "outputs": [],
   "source": [
    "from sklearn.preprocessing import LabelEncoder\n",
    "\n",
    "encoder = LabelEncoder()\n",
    "df['status_encoded'] = encoder.fit_transform(df['status'])\n"
   ]
  },
  {
   "cell_type": "code",
   "execution_count": 199,
   "metadata": {},
   "outputs": [],
   "source": [
    "from sklearn.model_selection import train_test_split\n",
    "\n",
    "X = df[['x', 'y', 'z', 'magnitude', 'rolling_mean', 'rolling_std', 'rolling_max', 'rolling_min']]\n",
    "y = df['status_encoded']\n",
    "\n",
    "X_train, X_test, y_train, y_test = train_test_split(X, y, test_size=0.2, random_state=42)\n"
   ]
  },
  {
   "cell_type": "code",
   "execution_count": 200,
   "metadata": {},
   "outputs": [],
   "source": [
    "from sklearn.preprocessing import StandardScaler\n",
    "\n",
    "scaler = StandardScaler()\n",
    "df[['x', 'y', 'z', 'magnitude', 'rolling_mean', 'rolling_std', 'rolling_max', 'rolling_min']] = scaler.fit_transform(df[['x', 'y', 'z', 'magnitude', 'rolling_mean', 'rolling_std', 'rolling_max', 'rolling_min']])"
   ]
  },
  {
   "cell_type": "code",
   "execution_count": 201,
   "metadata": {},
   "outputs": [
    {
     "data": {
      "text/html": [
       "<div>\n",
       "<style scoped>\n",
       "    .dataframe tbody tr th:only-of-type {\n",
       "        vertical-align: middle;\n",
       "    }\n",
       "\n",
       "    .dataframe tbody tr th {\n",
       "        vertical-align: top;\n",
       "    }\n",
       "\n",
       "    .dataframe thead th {\n",
       "        text-align: right;\n",
       "    }\n",
       "</style>\n",
       "<table border=\"1\" class=\"dataframe\">\n",
       "  <thead>\n",
       "    <tr style=\"text-align: right;\">\n",
       "      <th></th>\n",
       "      <th>x</th>\n",
       "      <th>y</th>\n",
       "      <th>z</th>\n",
       "      <th>status</th>\n",
       "      <th>magnitude</th>\n",
       "      <th>rolling_mean</th>\n",
       "      <th>rolling_std</th>\n",
       "      <th>rolling_max</th>\n",
       "      <th>rolling_min</th>\n",
       "      <th>status_encoded</th>\n",
       "    </tr>\n",
       "  </thead>\n",
       "  <tbody>\n",
       "    <tr>\n",
       "      <th>0</th>\n",
       "      <td>-0.722631</td>\n",
       "      <td>-0.684882</td>\n",
       "      <td>-0.572784</td>\n",
       "      <td>idle</td>\n",
       "      <td>-0.319049</td>\n",
       "      <td>-0.176679</td>\n",
       "      <td>-0.974991</td>\n",
       "      <td>-0.820566</td>\n",
       "      <td>0.890017</td>\n",
       "      <td>1</td>\n",
       "    </tr>\n",
       "    <tr>\n",
       "      <th>1</th>\n",
       "      <td>-0.705323</td>\n",
       "      <td>-0.707061</td>\n",
       "      <td>-0.667939</td>\n",
       "      <td>idle</td>\n",
       "      <td>0.010830</td>\n",
       "      <td>-0.177337</td>\n",
       "      <td>-0.975095</td>\n",
       "      <td>-0.820566</td>\n",
       "      <td>0.890017</td>\n",
       "      <td>1</td>\n",
       "    </tr>\n",
       "    <tr>\n",
       "      <th>2</th>\n",
       "      <td>-0.701161</td>\n",
       "      <td>-0.690752</td>\n",
       "      <td>-0.720074</td>\n",
       "      <td>idle</td>\n",
       "      <td>0.015046</td>\n",
       "      <td>-0.118208</td>\n",
       "      <td>-0.979485</td>\n",
       "      <td>-0.820566</td>\n",
       "      <td>0.890017</td>\n",
       "      <td>1</td>\n",
       "    </tr>\n",
       "    <tr>\n",
       "      <th>3</th>\n",
       "      <td>-0.685538</td>\n",
       "      <td>-0.714080</td>\n",
       "      <td>-0.682856</td>\n",
       "      <td>idle</td>\n",
       "      <td>0.073380</td>\n",
       "      <td>-0.135369</td>\n",
       "      <td>-0.985175</td>\n",
       "      <td>-0.820566</td>\n",
       "      <td>0.890017</td>\n",
       "      <td>1</td>\n",
       "    </tr>\n",
       "    <tr>\n",
       "      <th>4</th>\n",
       "      <td>-0.724755</td>\n",
       "      <td>-0.653489</td>\n",
       "      <td>-0.617036</td>\n",
       "      <td>idle</td>\n",
       "      <td>-0.435118</td>\n",
       "      <td>-0.409551</td>\n",
       "      <td>-1.045116</td>\n",
       "      <td>-0.998741</td>\n",
       "      <td>0.890017</td>\n",
       "      <td>1</td>\n",
       "    </tr>\n",
       "  </tbody>\n",
       "</table>\n",
       "</div>"
      ],
      "text/plain": [
       "          x         y         z status  magnitude  rolling_mean  rolling_std  \\\n",
       "0 -0.722631 -0.684882 -0.572784   idle  -0.319049     -0.176679    -0.974991   \n",
       "1 -0.705323 -0.707061 -0.667939   idle   0.010830     -0.177337    -0.975095   \n",
       "2 -0.701161 -0.690752 -0.720074   idle   0.015046     -0.118208    -0.979485   \n",
       "3 -0.685538 -0.714080 -0.682856   idle   0.073380     -0.135369    -0.985175   \n",
       "4 -0.724755 -0.653489 -0.617036   idle  -0.435118     -0.409551    -1.045116   \n",
       "\n",
       "   rolling_max  rolling_min  status_encoded  \n",
       "0    -0.820566     0.890017               1  \n",
       "1    -0.820566     0.890017               1  \n",
       "2    -0.820566     0.890017               1  \n",
       "3    -0.820566     0.890017               1  \n",
       "4    -0.998741     0.890017               1  "
      ]
     },
     "execution_count": 201,
     "metadata": {},
     "output_type": "execute_result"
    }
   ],
   "source": [
    "df.head()"
   ]
  },
  {
   "cell_type": "markdown",
   "metadata": {},
   "source": [
    "**Train Model**"
   ]
  },
  {
   "cell_type": "code",
   "execution_count": 202,
   "metadata": {},
   "outputs": [],
   "source": [
    "from sklearn.ensemble import RandomForestClassifier\n",
    "\n",
    "clf = RandomForestClassifier(random_state=42)\n",
    "clf.fit(X_train, y_train)\n",
    "y_pred = clf.predict(X_test)\n"
   ]
  },
  {
   "cell_type": "code",
   "execution_count": 203,
   "metadata": {},
   "outputs": [
    {
     "name": "stdout",
     "output_type": "stream",
     "text": [
      "              precision    recall  f1-score   support\n",
      "\n",
      "           0       0.97      0.96      0.97     19879\n",
      "           1       0.96      0.97      0.97     19864\n",
      "           2       1.00      1.00      1.00     20015\n",
      "\n",
      "    accuracy                           0.98     59758\n",
      "   macro avg       0.98      0.98      0.98     59758\n",
      "weighted avg       0.98      0.98      0.98     59758\n",
      "\n",
      "Accuracy: 0.98\n"
     ]
    }
   ],
   "source": [
    "from sklearn.metrics import classification_report, accuracy_score\n",
    "\n",
    "print(classification_report(y_test, y_pred))\n",
    "print(f\"Accuracy: {accuracy_score(y_test, y_pred):.2f}\")\n"
   ]
  },
  {
   "cell_type": "markdown",
   "metadata": {},
   "source": [
    "**Save Model**"
   ]
  },
  {
   "cell_type": "code",
   "execution_count": 204,
   "metadata": {},
   "outputs": [
    {
     "data": {
      "text/plain": [
       "['classify_status_model.pkl']"
      ]
     },
     "execution_count": 204,
     "metadata": {},
     "output_type": "execute_result"
    }
   ],
   "source": [
    "import joblib\n",
    "\n",
    "joblib.dump(clf, \"classify_status_model.pkl\")"
   ]
  },
  {
   "cell_type": "markdown",
   "metadata": {},
   "source": [
    "**Test Data**"
   ]
  },
  {
   "cell_type": "code",
   "execution_count": 180,
   "metadata": {},
   "outputs": [
    {
     "data": {
      "text/plain": [
       "x         0\n",
       "y         0\n",
       "z         0\n",
       "status    0\n",
       "dtype: int64"
      ]
     },
     "execution_count": 180,
     "metadata": {},
     "output_type": "execute_result"
    }
   ],
   "source": [
    "df_test = pd.read_csv('1_highly_used_data.csv')\n",
    "# Check for missing values\n",
    "df_test.isnull().sum()"
   ]
  },
  {
   "cell_type": "code",
   "execution_count": 181,
   "metadata": {},
   "outputs": [
    {
     "data": {
      "text/html": [
       "<div>\n",
       "<style scoped>\n",
       "    .dataframe tbody tr th:only-of-type {\n",
       "        vertical-align: middle;\n",
       "    }\n",
       "\n",
       "    .dataframe tbody tr th {\n",
       "        vertical-align: top;\n",
       "    }\n",
       "\n",
       "    .dataframe thead th {\n",
       "        text-align: right;\n",
       "    }\n",
       "</style>\n",
       "<table border=\"1\" class=\"dataframe\">\n",
       "  <thead>\n",
       "    <tr style=\"text-align: right;\">\n",
       "      <th></th>\n",
       "      <th>x</th>\n",
       "      <th>y</th>\n",
       "      <th>z</th>\n",
       "      <th>status</th>\n",
       "    </tr>\n",
       "  </thead>\n",
       "  <tbody>\n",
       "    <tr>\n",
       "      <th>0</th>\n",
       "      <td>0.885636</td>\n",
       "      <td>0.167930</td>\n",
       "      <td>0.144440</td>\n",
       "      <td>used</td>\n",
       "    </tr>\n",
       "    <tr>\n",
       "      <th>1</th>\n",
       "      <td>0.811211</td>\n",
       "      <td>0.272013</td>\n",
       "      <td>0.255646</td>\n",
       "      <td>used</td>\n",
       "    </tr>\n",
       "    <tr>\n",
       "      <th>2</th>\n",
       "      <td>0.894434</td>\n",
       "      <td>0.228979</td>\n",
       "      <td>0.411866</td>\n",
       "      <td>used</td>\n",
       "    </tr>\n",
       "    <tr>\n",
       "      <th>3</th>\n",
       "      <td>0.739594</td>\n",
       "      <td>0.322290</td>\n",
       "      <td>0.427841</td>\n",
       "      <td>used</td>\n",
       "    </tr>\n",
       "    <tr>\n",
       "      <th>4</th>\n",
       "      <td>0.874145</td>\n",
       "      <td>0.189126</td>\n",
       "      <td>0.820142</td>\n",
       "      <td>used</td>\n",
       "    </tr>\n",
       "    <tr>\n",
       "      <th>...</th>\n",
       "      <td>...</td>\n",
       "      <td>...</td>\n",
       "      <td>...</td>\n",
       "      <td>...</td>\n",
       "    </tr>\n",
       "    <tr>\n",
       "      <th>99995</th>\n",
       "      <td>-0.136474</td>\n",
       "      <td>-0.882179</td>\n",
       "      <td>-0.439679</td>\n",
       "      <td>idle</td>\n",
       "    </tr>\n",
       "    <tr>\n",
       "      <th>99996</th>\n",
       "      <td>-0.129160</td>\n",
       "      <td>-0.871507</td>\n",
       "      <td>-0.451367</td>\n",
       "      <td>idle</td>\n",
       "    </tr>\n",
       "    <tr>\n",
       "      <th>99997</th>\n",
       "      <td>-0.123045</td>\n",
       "      <td>-0.858669</td>\n",
       "      <td>-0.413231</td>\n",
       "      <td>idle</td>\n",
       "    </tr>\n",
       "    <tr>\n",
       "      <th>99998</th>\n",
       "      <td>-0.133078</td>\n",
       "      <td>-0.875517</td>\n",
       "      <td>-0.431696</td>\n",
       "      <td>idle</td>\n",
       "    </tr>\n",
       "    <tr>\n",
       "      <th>99999</th>\n",
       "      <td>-0.140043</td>\n",
       "      <td>-0.905587</td>\n",
       "      <td>-0.502999</td>\n",
       "      <td>idle</td>\n",
       "    </tr>\n",
       "  </tbody>\n",
       "</table>\n",
       "<p>100000 rows × 4 columns</p>\n",
       "</div>"
      ],
      "text/plain": [
       "              x         y         z status\n",
       "0      0.885636  0.167930  0.144440   used\n",
       "1      0.811211  0.272013  0.255646   used\n",
       "2      0.894434  0.228979  0.411866   used\n",
       "3      0.739594  0.322290  0.427841   used\n",
       "4      0.874145  0.189126  0.820142   used\n",
       "...         ...       ...       ...    ...\n",
       "99995 -0.136474 -0.882179 -0.439679   idle\n",
       "99996 -0.129160 -0.871507 -0.451367   idle\n",
       "99997 -0.123045 -0.858669 -0.413231   idle\n",
       "99998 -0.133078 -0.875517 -0.431696   idle\n",
       "99999 -0.140043 -0.905587 -0.502999   idle\n",
       "\n",
       "[100000 rows x 4 columns]"
      ]
     },
     "execution_count": 181,
     "metadata": {},
     "output_type": "execute_result"
    }
   ],
   "source": [
    "df_test.drop_duplicates()"
   ]
  },
  {
   "cell_type": "code",
   "execution_count": 182,
   "metadata": {},
   "outputs": [],
   "source": [
    "idle_data_test = df_test[df_test['status'] == 'idle']\n",
    "false_motion_data_test = df_test[df_test['status'] == 'false_motion']\n",
    "used_data_test = df_test[df_test['status'] == 'used']\n",
    "\n",
    "def remove_outliers_by_zscore(data, columns, threshold=3):\n",
    "    z_scores = zscore(data[columns])\n",
    "    return data[(z_scores < threshold).all(axis=1)]\n",
    "\n",
    "idle_data_cleaned_test = remove_outliers_by_zscore(idle_data_test, ['x', 'y', 'z'])\n",
    "false_motion_data_cleaned_test = remove_outliers_by_zscore(false_motion_data_test, ['x', 'y', 'z'])\n",
    "used_data_cleaned_test = remove_outliers_by_zscore(used_data_test, ['x', 'y', 'z'])\n",
    "\n",
    "df_test = pd.concat([\n",
    "    idle_data_cleaned_test,\n",
    "    false_motion_data_cleaned_test,\n",
    "    used_data_cleaned_test\n",
    "])\n",
    "\n",
    "df_test.reset_index(drop=True, inplace=True)"
   ]
  },
  {
   "cell_type": "code",
   "execution_count": 183,
   "metadata": {},
   "outputs": [],
   "source": [
    "df_test['magnitude'] = np.sqrt(df_test['x']**2 + df_test['y']**2 + df_test['z']**2)\n"
   ]
  },
  {
   "cell_type": "code",
   "execution_count": 184,
   "metadata": {},
   "outputs": [],
   "source": [
    "window_size = 10\n",
    "\n",
    "# Calculate rolling mean, standard deviation, max, and min\n",
    "df_test['rolling_mean'] = df_test['magnitude'].rolling(window=window_size).mean()\n",
    "df_test['rolling_std'] = df_test['magnitude'].rolling(window=window_size).std()\n",
    "df_test['rolling_max'] = df_test['magnitude'].rolling(window=window_size).max()\n",
    "df_test['rolling_min'] = df_test['magnitude'].rolling(window=window_size).min()\n"
   ]
  },
  {
   "cell_type": "code",
   "execution_count": 185,
   "metadata": {},
   "outputs": [],
   "source": [
    "df_test.dropna(subset=['rolling_mean', 'rolling_std', 'rolling_max', 'rolling_min'], inplace=True)\n",
    "df_test.reset_index(drop=True, inplace=True)"
   ]
  },
  {
   "cell_type": "code",
   "execution_count": 186,
   "metadata": {},
   "outputs": [],
   "source": [
    "df_test[['x', 'y', 'z', 'magnitude', 'rolling_mean', 'rolling_std', 'rolling_max', 'rolling_min']] = scaler.transform(df_test[['x', 'y', 'z', 'magnitude', 'rolling_mean', 'rolling_std', 'rolling_max', 'rolling_min']])"
   ]
  },
  {
   "cell_type": "code",
   "execution_count": 187,
   "metadata": {},
   "outputs": [],
   "source": [
    "df_test['encoded_status'] = encoder.transform(df_test['status'])\n"
   ]
  },
  {
   "cell_type": "code",
   "execution_count": 188,
   "metadata": {},
   "outputs": [
    {
     "name": "stdout",
     "output_type": "stream",
     "text": [
      "Classification Report:\n",
      "\n",
      "              precision    recall  f1-score   support\n",
      "\n",
      "           0       0.60      1.00      0.75     14952\n",
      "           1       0.00      0.00      0.00      9944\n",
      "           2       1.00      1.00      1.00     74718\n",
      "\n",
      "    accuracy                           0.90     99614\n",
      "   macro avg       0.53      0.67      0.58     99614\n",
      "weighted avg       0.84      0.90      0.86     99614\n",
      "\n"
     ]
    },
    {
     "name": "stderr",
     "output_type": "stream",
     "text": [
      "/home/alice/fyp/.venv/lib/python3.12/site-packages/sklearn/metrics/_classification.py:1565: UndefinedMetricWarning: Precision is ill-defined and being set to 0.0 in labels with no predicted samples. Use `zero_division` parameter to control this behavior.\n",
      "  _warn_prf(average, modifier, f\"{metric.capitalize()} is\", len(result))\n",
      "/home/alice/fyp/.venv/lib/python3.12/site-packages/sklearn/metrics/_classification.py:1565: UndefinedMetricWarning: Precision is ill-defined and being set to 0.0 in labels with no predicted samples. Use `zero_division` parameter to control this behavior.\n",
      "  _warn_prf(average, modifier, f\"{metric.capitalize()} is\", len(result))\n",
      "/home/alice/fyp/.venv/lib/python3.12/site-packages/sklearn/metrics/_classification.py:1565: UndefinedMetricWarning: Precision is ill-defined and being set to 0.0 in labels with no predicted samples. Use `zero_division` parameter to control this behavior.\n",
      "  _warn_prf(average, modifier, f\"{metric.capitalize()} is\", len(result))\n"
     ]
    }
   ],
   "source": [
    "import joblib\n",
    "from sklearn.metrics import classification_report\n",
    "\n",
    "model = joblib.load('classify_status_model_final1.pkl')\n",
    "\n",
    "X = df_test[['x', 'y', 'z', 'magnitude', 'rolling_mean', 'rolling_std', 'rolling_max', 'rolling_min']]\n",
    "\n",
    "df_test['estimated_status'] = model.predict(X)\n",
    "if 'status' in df_test.columns:\n",
    "    print(\"Classification Report:\\n\")\n",
    "    print(classification_report(df_test['encoded_status'], df_test['estimated_status']))\n",
    "\n",
    "df_test.to_csv('classified_data.csv', index=False)\n"
   ]
  },
  {
   "cell_type": "markdown",
   "metadata": {},
   "source": [
    "**Separate**"
   ]
  },
  {
   "cell_type": "code",
   "execution_count": null,
   "metadata": {},
   "outputs": [],
   "source": [
    "from sklearn.model_selection import cross_val_score\n",
    "scores = cross_val_score(clf, X, y, cv=5)\n",
    "print(f\"Cross-validation accuracy: {scores.mean():.2f}\")\n"
   ]
  },
  {
   "cell_type": "code",
   "execution_count": null,
   "metadata": {},
   "outputs": [],
   "source": [
    "from sklearn.metrics import confusion_matrix, ConfusionMatrixDisplay\n",
    "\n",
    "cm = confusion_matrix(y_test, y_pred)\n",
    "ConfusionMatrixDisplay(cm, display_labels=encoder.classes_).plot()\n"
   ]
  },
  {
   "cell_type": "code",
   "execution_count": null,
   "metadata": {},
   "outputs": [
    {
     "name": "stdout",
     "output_type": "stream",
     "text": [
      "Baseline Accuracy: 0.24\n"
     ]
    }
   ],
   "source": [
    "from sklearn.dummy import DummyClassifier\n",
    "\n",
    "baseline = DummyClassifier(strategy=\"most_frequent\")\n",
    "baseline.fit(X_train, y_train)\n",
    "baseline_acc = baseline.score(X_test, y_test)\n",
    "print(f\"Baseline Accuracy: {baseline_acc:.2f}\")\n"
   ]
  },
  {
   "cell_type": "code",
   "execution_count": null,
   "metadata": {},
   "outputs": [],
   "source": [
    "df['time'] = range(len(df))\n",
    "statuses = df['status'].unique()\n",
    "\n",
    "for status in statuses:\n",
    "    subset = df[df['status'] == status]\n",
    "    plt.figure(figsize=(10, 5))\n",
    "    plt.plot(subset['time'], subset['magnitude'], label='x', alpha=0.7)\n",
    "    plt.title(f'Accelerometer Data for Status: {status}')\n",
    "    plt.xlabel('Time')\n",
    "    plt.ylabel('Value')\n",
    "    plt.legend()\n",
    "    plt.show()"
   ]
  }
 ],
 "metadata": {
  "kernelspec": {
   "display_name": ".venv",
   "language": "python",
   "name": "python3"
  },
  "language_info": {
   "codemirror_mode": {
    "name": "ipython",
    "version": 3
   },
   "file_extension": ".py",
   "mimetype": "text/x-python",
   "name": "python",
   "nbconvert_exporter": "python",
   "pygments_lexer": "ipython3",
   "version": "3.12.3"
  }
 },
 "nbformat": 4,
 "nbformat_minor": 2
}

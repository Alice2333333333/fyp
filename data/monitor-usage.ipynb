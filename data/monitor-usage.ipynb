{
 "cells": [
  {
   "cell_type": "code",
   "execution_count": 1,
   "metadata": {},
   "outputs": [],
   "source": [
    "import pandas as pd\n",
    "import numpy as np\n",
    "import matplotlib.pyplot as plt"
   ]
  },
  {
   "cell_type": "code",
   "execution_count": 2,
   "metadata": {},
   "outputs": [],
   "source": [
    "df = pd.read_csv('usage_data.csv')\n"
   ]
  },
  {
   "cell_type": "code",
   "execution_count": 3,
   "metadata": {},
   "outputs": [
    {
     "data": {
      "text/html": [
       "<div>\n",
       "<style scoped>\n",
       "    .dataframe tbody tr th:only-of-type {\n",
       "        vertical-align: middle;\n",
       "    }\n",
       "\n",
       "    .dataframe tbody tr th {\n",
       "        vertical-align: top;\n",
       "    }\n",
       "\n",
       "    .dataframe thead th {\n",
       "        text-align: right;\n",
       "    }\n",
       "</style>\n",
       "<table border=\"1\" class=\"dataframe\">\n",
       "  <thead>\n",
       "    <tr style=\"text-align: right;\">\n",
       "      <th></th>\n",
       "      <th>x</th>\n",
       "      <th>y</th>\n",
       "      <th>z</th>\n",
       "      <th>status</th>\n",
       "    </tr>\n",
       "  </thead>\n",
       "  <tbody>\n",
       "    <tr>\n",
       "      <th>0</th>\n",
       "      <td>-0.123084</td>\n",
       "      <td>-0.909835</td>\n",
       "      <td>-0.399468</td>\n",
       "      <td>idle</td>\n",
       "    </tr>\n",
       "    <tr>\n",
       "      <th>1</th>\n",
       "      <td>-0.120303</td>\n",
       "      <td>-0.903106</td>\n",
       "      <td>-0.381034</td>\n",
       "      <td>idle</td>\n",
       "    </tr>\n",
       "    <tr>\n",
       "      <th>2</th>\n",
       "      <td>-0.123200</td>\n",
       "      <td>-0.893145</td>\n",
       "      <td>-0.454663</td>\n",
       "      <td>idle</td>\n",
       "    </tr>\n",
       "    <tr>\n",
       "      <th>3</th>\n",
       "      <td>-0.136790</td>\n",
       "      <td>-0.916880</td>\n",
       "      <td>-0.454484</td>\n",
       "      <td>idle</td>\n",
       "    </tr>\n",
       "    <tr>\n",
       "      <th>4</th>\n",
       "      <td>-0.129392</td>\n",
       "      <td>-0.911907</td>\n",
       "      <td>-0.371385</td>\n",
       "      <td>idle</td>\n",
       "    </tr>\n",
       "  </tbody>\n",
       "</table>\n",
       "</div>"
      ],
      "text/plain": [
       "          x         y         z status\n",
       "0 -0.123084 -0.909835 -0.399468   idle\n",
       "1 -0.120303 -0.903106 -0.381034   idle\n",
       "2 -0.123200 -0.893145 -0.454663   idle\n",
       "3 -0.136790 -0.916880 -0.454484   idle\n",
       "4 -0.129392 -0.911907 -0.371385   idle"
      ]
     },
     "execution_count": 3,
     "metadata": {},
     "output_type": "execute_result"
    }
   ],
   "source": [
    "df.head()"
   ]
  },
  {
   "cell_type": "code",
   "execution_count": 4,
   "metadata": {},
   "outputs": [],
   "source": [
    "df = df[~df['status'].isin(['false_motion', 'idle'])]\n",
    "df.reset_index(drop=True, inplace=True)\n",
    "\n"
   ]
  },
  {
   "cell_type": "code",
   "execution_count": 5,
   "metadata": {},
   "outputs": [],
   "source": [
    "from datetime import datetime, timedelta\n",
    "\n",
    "total_rows = df.shape[0]\n",
    "\n",
    "# Define percentage distribution for each day\n",
    "distribution = [0.30, 0.10, 0.20, 0.05, 0.05, 0.15, 0.15]\n",
    "\n",
    "# Calculate rows for each day\n",
    "rows_per_day = [int(total_rows * percent) for percent in distribution]\n",
    "\n",
    "while sum(rows_per_day) < total_rows:\n",
    "    rows_per_day[0] += 1 \n"
   ]
  },
  {
   "cell_type": "code",
   "execution_count": 6,
   "metadata": {},
   "outputs": [],
   "source": [
    "# Generate timestamps for each day\n",
    "now = datetime.now()\n",
    "timestamps = []\n",
    "row_counter = 0\n",
    "\n",
    "for i, rows in enumerate(rows_per_day):\n",
    "    start_time = now - timedelta(days=i)\n",
    "    for j in range(rows):\n",
    "        timestamps.append(start_time - timedelta(seconds=j))\n",
    "        row_counter += 1\n",
    "\n",
    "# Assign to DataFrame\n",
    "df['timestamp'] = timestamps[:total_rows]"
   ]
  },
  {
   "cell_type": "code",
   "execution_count": 7,
   "metadata": {},
   "outputs": [
    {
     "data": {
      "text/html": [
       "<div>\n",
       "<style scoped>\n",
       "    .dataframe tbody tr th:only-of-type {\n",
       "        vertical-align: middle;\n",
       "    }\n",
       "\n",
       "    .dataframe tbody tr th {\n",
       "        vertical-align: top;\n",
       "    }\n",
       "\n",
       "    .dataframe thead th {\n",
       "        text-align: right;\n",
       "    }\n",
       "</style>\n",
       "<table border=\"1\" class=\"dataframe\">\n",
       "  <thead>\n",
       "    <tr style=\"text-align: right;\">\n",
       "      <th></th>\n",
       "      <th>x</th>\n",
       "      <th>y</th>\n",
       "      <th>z</th>\n",
       "      <th>status</th>\n",
       "      <th>timestamp</th>\n",
       "    </tr>\n",
       "  </thead>\n",
       "  <tbody>\n",
       "    <tr>\n",
       "      <th>0</th>\n",
       "      <td>0.848198</td>\n",
       "      <td>0.253125</td>\n",
       "      <td>0.547243</td>\n",
       "      <td>used</td>\n",
       "      <td>2024-12-26 12:50:32.438347</td>\n",
       "    </tr>\n",
       "    <tr>\n",
       "      <th>1</th>\n",
       "      <td>0.826302</td>\n",
       "      <td>0.150570</td>\n",
       "      <td>0.420971</td>\n",
       "      <td>used</td>\n",
       "      <td>2024-12-26 12:50:31.438347</td>\n",
       "    </tr>\n",
       "    <tr>\n",
       "      <th>2</th>\n",
       "      <td>0.816081</td>\n",
       "      <td>0.368309</td>\n",
       "      <td>0.397311</td>\n",
       "      <td>used</td>\n",
       "      <td>2024-12-26 12:50:30.438347</td>\n",
       "    </tr>\n",
       "    <tr>\n",
       "      <th>3</th>\n",
       "      <td>0.717245</td>\n",
       "      <td>0.260025</td>\n",
       "      <td>0.166915</td>\n",
       "      <td>used</td>\n",
       "      <td>2024-12-26 12:50:29.438347</td>\n",
       "    </tr>\n",
       "    <tr>\n",
       "      <th>4</th>\n",
       "      <td>0.911807</td>\n",
       "      <td>0.347849</td>\n",
       "      <td>0.486642</td>\n",
       "      <td>used</td>\n",
       "      <td>2024-12-26 12:50:28.438347</td>\n",
       "    </tr>\n",
       "  </tbody>\n",
       "</table>\n",
       "</div>"
      ],
      "text/plain": [
       "          x         y         z status                  timestamp\n",
       "0  0.848198  0.253125  0.547243   used 2024-12-26 12:50:32.438347\n",
       "1  0.826302  0.150570  0.420971   used 2024-12-26 12:50:31.438347\n",
       "2  0.816081  0.368309  0.397311   used 2024-12-26 12:50:30.438347\n",
       "3  0.717245  0.260025  0.166915   used 2024-12-26 12:50:29.438347\n",
       "4  0.911807  0.347849  0.486642   used 2024-12-26 12:50:28.438347"
      ]
     },
     "execution_count": 7,
     "metadata": {},
     "output_type": "execute_result"
    }
   ],
   "source": [
    "df.head()"
   ]
  },
  {
   "cell_type": "code",
   "execution_count": 8,
   "metadata": {},
   "outputs": [],
   "source": [
    "df = df.sort_values(by='timestamp')\n",
    "df.reset_index(drop=True, inplace=True)\n"
   ]
  },
  {
   "cell_type": "code",
   "execution_count": 9,
   "metadata": {},
   "outputs": [
    {
     "data": {
      "image/png": "[encoded data removed]",
      "text/plain": [
       "<Figure size 1000x600 with 1 Axes>"
      ]
     },
     "metadata": {},
     "output_type": "display_data"
    }
   ],
   "source": [
    "# Convert timestamp to datetime format\n",
    "df['timestamp'] = pd.to_datetime(df['timestamp'])\n",
    "\n",
    "# Extract date from the timestamp\n",
    "df['date'] = df['timestamp'].dt.date\n",
    "\n",
    "# Calculate total usage in hours per day\n",
    "usage_hours = df.groupby('date').size().reset_index(name='usage_seconds')\n",
    "usage_hours['usage_hours'] = usage_hours['usage_seconds'] / 3600\n",
    "\n",
    "plt.figure(figsize=(10, 6))\n",
    "plt.barh(usage_hours['date'].astype(str), usage_hours['usage_hours'])\n",
    "plt.xlabel('Usage in Hours')\n",
    "plt.ylabel('Date')\n",
    "plt.title('Daily Usage in Hours')\n",
    "plt.grid(axis='x', linestyle='--', alpha=0.7)\n",
    "\n",
    "plt.show()"
   ]
  },
  {
   "cell_type": "code",
   "execution_count": 10,
   "metadata": {},
   "outputs": [],
   "source": [
    "file_path = 'usage_data.csv'\n",
    "df.to_csv(file_path, index=False)"
   ]
  },
  {
   "cell_type": "markdown",
   "metadata": {},
   "source": [
    "**Save data into JSON format**"
   ]
  },
  {
   "cell_type": "code",
   "execution_count": 5,
   "metadata": {},
   "outputs": [
    {
     "name": "stdout",
     "output_type": "stream",
     "text": [
      "Data saved to monitor_usage.json\n"
     ]
    }
   ],
   "source": [
    "import json\n",
    "\n",
    "# Convert timestamp to datetime format\n",
    "df['timestamp'] = pd.to_datetime(df['timestamp'])\n",
    "\n",
    "# Extract date from the timestamp\n",
    "df['date'] = df['timestamp'].dt.date\n",
    "\n",
    "# Calculate total usage per day (1 row = 1 second)\n",
    "usage_per_day = df.groupby('date').size().reset_index(name='usage_seconds')\n",
    "\n",
    "# Convert to list of dictionaries for JSON\n",
    "usage_list = usage_per_day.to_dict(orient='records')\n",
    "\n",
    "json_data = [{\"date\": str(entry['date']), \"usage_hours\": round(entry['usage_seconds'] / 3600, 2)} for entry in usage_list]\n",
    "with open(\"monitor_usage.json\", \"w\") as json_file:\n",
    "    json.dump(json_data, json_file, indent=4)\n",
    "\n",
    "print(\"Data saved to monitor_usage.json\")"
   ]
  }
 ],
 "metadata": {
  "kernelspec": {
   "display_name": ".venv",
   "language": "python",
   "name": "python3"
  },
  "language_info": {
   "codemirror_mode": {
    "name": "ipython",
    "version": 3
   },
   "file_extension": ".py",
   "mimetype": "text/x-python",
   "name": "python",
   "nbconvert_exporter": "python",
   "pygments_lexer": "ipython3",
   "version": "3.12.3"
  }
 },
 "nbformat": 4,
 "nbformat_minor": 2
}
